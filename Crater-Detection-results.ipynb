{
 "cells": [
  {
   "cell_type": "markdown",
   "metadata": {},
   "source": [
    "# Crater Detection\n",
    "- Maryam Labaf\n",
    "",
    "\n",
    "\n",
    ""
   ]
  },
  {
   "cell_type": "markdown",
   "metadata": {},
   "source": [
    "## The code\n",
    "### Custom modules used\n",
    "- `crater_preprocessing.py`\n",
    "- `crater_loader.py`\n",
    "- `crater_data.py`: classes for data management. Similar to tensorflows datasets\n",
    "- `crater_cnn.py`: the class for CNN implementation\n",
    "- `crater_nn.py`: the class for NN implementation\n",
    "- `network_blocks.py`: some methods to build CNN structure\n",
    "- `crater_plots.py`: some methods to display plots from CNN\n",
    "- `helper.py`: some miscelaneous helper functions\n",
    "\n",
    "### Scripts for experiment\n",
    "- `train_cnn.py`: for model training. It generates a files that can be loaded\n",
    "- `training_nn.py`: for model training. It generates a files that can be loaded\n",
    "- `sliding_window_2networks.py`: loads both models and perform crater detection while sliding through the image\n",
    "- `remove_duplicates.py`: processes csv outputs from sliding. Removes duplicated detections\n",
    "\n",
    "### Extra non-critical scripts\n",
    "- `use_trained_model.py`\n",
    "- `visualize_rectangles.py`\n",
    "- `crater_slice_window.py`\n",
    "- `xmeans.py`\n"
   ]
  },
  {
   "cell_type": "markdown",
   "metadata": {},
   "source": [
    "## Preproccessing Data:\n",
    "Used the file created in phase I and resizded data into 50 by 50.\n"
   ]
  },
  {
   "cell_type": "markdown",
   "metadata": {},
   "source": [
    "## CNN:\n",
    "CNN was implemented with code from Tensor Flow tutorial number 2 by Magnus Erik Hvass Pedersen-GitHub.\n",
    "\n",
    "https://github.com/Hvass-Labs/TensorFlow-Tutorials/blob/master/\n",
    "\n",
    "A new Network class was written using code from this repository, and customized as needed.\n",
    "\n",
    "#### CNN Design: \n",
    "Consist of six layers:\n",
    "\n",
    "- Input layer: 50 by 50.\n",
    "- Convolutional and Pooling Layer 1: 16 filters with size 5 by 5. Pooling was done with 2 by 2 window size and picked the maximum value. Activation function was a relu function.\n",
    "- Convolutional and Pooling Layer 2: 36 filters with size 5 by 5. Pooling was done with a 2 by 2 window size and picked the maximum value. Activation function was a relu function.\n",
    "- Fully Connected Layer: Two fully layers, the first one with 64 neurons and second one with 16 neurons. Activation functions were both relu functions. \n",
    "- Output: Two neurons. After sigmoid functions were used for each outputs, softmax method was used. \n",
    "- Number of Epochs: 20\n",
    "- Learning Rate: Adam Optimizer with starting learning rate $10^{-4}$.\n",
    "\n",
    "Trained this CNN by using craters and non-craters data of tile_24.\n",
    "\n",
    "#### Accuracy on the Test Set:\n",
    "- Trained CNN had more than 98% accuracy in various random train and test sets. There were only 2 missclasified images.\n",
    "\n",
    "#### Accuracy on the Validation Set:\n",
    "-Trained CNN had about 97% accuracy on the validation set after achieving 98-99% accuracy on the test set. \n",
    "\n",
    "![Accuracy evolution](accuracy_evolution.png)\n",
    "\n",
    "#### Filter activations\n",
    "With the trained model, it is posible to visualize the activation values for the filters at the convolutional layers\n",
    "\n",
    "![Example crater visualization](example_crater_2.png)\n",
    "\n",
    "![Filter activations for example crater picture](example_crater_filter_activations_2.png)\n",
    "\n",
    "Here it can be appreciated that these filters have identified features such as the shade patterns in the crater\n"
   ]
  },
  {
   "cell_type": "markdown",
   "metadata": {},
   "source": [
    "## Image Pyramids and Scanning:\n",
    "By modifying the sample code given, shrinked the original images with rate $\\frac{2}{3}$. Since exponential shift of window sizes had too many gaps, smoothed the gap by using a set of window sizes,20, 22, 24, 26 and 28, in each level of the pyramid. A stepsize of the window was 2.\n",
    "Copied images taken from the windows were normalized into 50 by 50 so that they can fit into our CNN and NN.\n",
    "\n",
    "![A sample output from tile3_24](tile3_24_cnn_detections.png)"
   ]
  },
  {
   "cell_type": "markdown",
   "metadata": {},
   "source": [
    "## Deleting Duplicates:\n",
    "Decided to treat a detecting duplicates problem as a clustering craters problem.\n",
    "\n",
    "Clustering methods for removing duplicate windows:\n",
    "- X-Means: The number of clusters was not necessary. Achieved to detect craters with large sizes, but failed to detect craters with small sizes.\n",
    "- K-Means: Achieved to detect craters with small sizes, but failed to detect craters with large sizes with a proper number of clusters. However, finding the proper number of clusters was the problem.\n",
    "- BIRCH: Balaneced iterative reducing and clsutering using hierarchies. Worked good to detect almost all the craters. Also, computational time was short.\n",
    "- Hierarchical Cluster based on Euclidian distance: Similar to BIRCH, gathered the set of datas which were closed to one randomly chosen data, put into a cluster and removed from the dataset in each iteration.\n",
    "- Extended hierarchical Cluster based on Euclidian distance: Used the probability given by CNN and NN to weight the importance of data in each cluster after the previous method."
   ]
  },
  {
   "cell_type": "markdown",
   "metadata": {},
   "source": [
    "## Object Detection:\n",
    "\n",
    "\n",
    "![Final output from tile3_24](crater_24_cnn.jpg)\n",
    "\n",
    "\n",
    "\n",
    "![Ground truth for tile3_24](crater_24_gt.png)\n",
    "\n",
    "\n",
    "\n",
    "![Final output from tile3_25](crater_25_cnn.jpg)\n",
    "\n",
    "\n",
    "\n",
    "![Ground truth for tile3_25](crater_25_gt.png)"
   ]
  },
  {
   "cell_type": "markdown",
   "metadata": {},
   "source": [
    "## Analysis of CNN and NN:\n",
    "\n",
    "Both CNN and NN worked good for finding craters from the base pictures. However, NN had much more false positives than CNN.\n",
    "\n",
    "![Final output from tile3_24 by NN trained in phase 1](crater_24_nn.jpg)\n",
    "\n",
    "![Final output from tile3_25 by NN trained in phase 1](crater_25_nn.jpg)"
   ]
  },
  {
   "cell_type": "markdown",
   "metadata": {},
   "source": [
    "## False Positive and False Negative Analysis:\n",
    "Both CNN and NN detects almost all craters from base pictures, 24 and 25. However, it seemed difficult for them not to detect a non-crater as a crater. CNN has better eliminations of false positives, but there still exists a room for improvement."
   ]
  }
 ],
 "metadata": {
  "kernelspec": {
   "display_name": "Python 3",
   "language": "python",
   "name": "python3"
  },
  "language_info": {
   "codemirror_mode": {
    "name": "ipython",
    "version": 3
   },
   "file_extension": ".py",
   "mimetype": "text/x-python",
   "name": "python",
   "nbconvert_exporter": "python",
   "pygments_lexer": "ipython3",
   "version": "3.6.4"
  }
 },
 "nbformat": 4,
 "nbformat_minor": 2
}
